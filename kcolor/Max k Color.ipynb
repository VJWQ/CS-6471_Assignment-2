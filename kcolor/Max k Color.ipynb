{
 "cells": [
  {
   "cell_type": "code",
   "execution_count": 7,
   "metadata": {},
   "outputs": [],
   "source": [
    "import numpy as np \n",
    "import mlrose\n",
    "import random\n",
    "from random import randint\n",
    "\n",
    "from sklearn.model_selection import train_test_split\n",
    "from sklearn.metrics import accuracy_score\n",
    "from sklearn import preprocessing, datasets\n",
    "import matplotlib.pyplot as plt\n",
    "\n",
    "import time\n",
    "import warnings"
   ]
  },
  {
   "cell_type": "markdown",
   "metadata": {},
   "source": [
    "**<font color=black size=5>3 Problems with 4 Algorithms</font>**"
   ]
  },
  {
   "cell_type": "markdown",
   "metadata": {},
   "source": [
    "<font color=black size=5>Max k-color: Functions</font>"
   ]
  },
  {
   "cell_type": "code",
   "execution_count": 49,
   "metadata": {},
   "outputs": [],
   "source": [
    "# Algorithm: randomized hill climbing\n",
    "def RHC():\n",
    "    print(\"STARTING K COLOR PROBLEM WITH RANDOMIZED HILL CLIMBING\")\n",
    "    fitnesses = []\n",
    "    runtime = []\n",
    "    for n in range(5, 28, 2):\n",
    "        schedule = mlrose.ExpDecay()\n",
    "        init_state = np.random.randint(2,size=n)\n",
    "#         random.seed(420)\n",
    "#         edges = [(random.randint(0,5),random.randint(0,5)) for _ in range(n)]\n",
    "        edges = [(0, 1), (0, 2), (0, 4), (1, 3), (2, 0), (2, 3), (3, 4),(1, 2), (2, 4), (1, 5), (1, 6), (1, 4), (3, 4), (4, 5), (2, 3), (2, 4), (2, 6), (3, 5), (4, 2), (4, 5), (5, 6), (8, 9), (7, 6), (3, 9), (2, 7), (4, 1), (3, 8), (4, 1)]\n",
    "        start = time.time()\n",
    "        fitness = mlrose.MaxKColor(edges[:n])\n",
    "        problem = mlrose.DiscreteOpt(length = n, fitness_fn = fitness, maximize=True, max_val=2)\n",
    "        best_state_rhc, best_fitness_rhc, fitness_curve_rhc = mlrose.random_hill_climb(problem, max_attempts = 1000, max_iters=5000, init_state = init_state, curve=True)\n",
    "        finish_time = time.time() - start\n",
    "        runtime.append(finish_time)\n",
    "        fitnesses.append(best_fitness_rhc)\n",
    "    return fitnesses, runtime, fitness_curve_rhc\n",
    "\n",
    "\n",
    "# Algorithm: simulated annealing\n",
    "def SA():\n",
    "    print(\"STARTING K COLOR PROBLEM WITH SIMULATED ANNEALING\")\n",
    "    fitnesses = []\n",
    "    runtime = []\n",
    "    for n in range(5, 28, 2):\n",
    "        schedule = mlrose.ExpDecay()\n",
    "        init_state = np.random.randint(2,size=n)\n",
    "        edges = [(0, 1), (0, 2), (0, 4), (1, 3), (2, 0), (2, 3), (3, 4),(1, 2), (2, 4), (1, 5), (1, 6), (1, 4), (3, 4), (4, 5), (2, 3), (2, 4), (2, 6), (3, 5), (4, 2), (4, 5), (5, 6), (8, 9), (7, 6), (3, 9), (2, 7), (4, 1), (3, 8), (4, 1)]        \n",
    "        start = time.time()\n",
    "        fitness = mlrose.MaxKColor(edges[:n])\n",
    "        problem = mlrose.DiscreteOpt(length = n, fitness_fn = fitness, maximize=True, max_val=2)\n",
    "        best_state_sa, best_fitness_sa, fitness_curve_sa = mlrose.simulated_annealing(problem, schedule = schedule, max_attempts = 1000, max_iters=5000, init_state = init_state, curve=True)\n",
    "        finish_time = time.time() - start\n",
    "        runtime.append(finish_time)\n",
    "        fitnesses.append(best_fitness_sa)\n",
    "#         print('time for sa for n={}: {}'.format(n, time.time() - start))\n",
    "#         print('best fitness for n={}: {}'.format(n, best_fitness_sa))\n",
    "    return fitnesses, runtime, fitness_curve_sa\n",
    "\n",
    "\n",
    "# Algorithm: genetic algorithm\n",
    "def GA():\n",
    "    print(\"STARTING K COLOR PROBLEM WITH GENETIC ALGORITHM\")\n",
    "    fitnesses = []\n",
    "    runtime = []\n",
    "    for n in range(5, 28, 2):\n",
    "        schedule = mlrose.ExpDecay()\n",
    "        init_state = np.random.randint(2,size=n)\n",
    "        edges = [(0, 1), (0, 2), (0, 4), (1, 3), (2, 0), (2, 3), (3, 4),(1, 2), (2, 4), (1, 5), (1, 6), (1, 4), (3, 4), (4, 5), (2, 3), (2, 4), (2, 6), (3, 5), (4, 2), (4, 5), (5, 6), (8, 9), (7, 6), (3, 9), (2, 7), (4, 1), (3, 8), (4, 1)]        \n",
    "        start = time.time()\n",
    "        fitness = mlrose.MaxKColor(edges[:n])\n",
    "        problem = mlrose.DiscreteOpt(length = n, fitness_fn = fitness, maximize=True, max_val=2)\n",
    "        best_state_ga, best_fitness_ga, fitness_curve_ga = mlrose.genetic_alg(problem, max_attempts = 1000, max_iters=5000, curve=True)\n",
    "\n",
    "        finish_time = time.time() - start\n",
    "        runtime.append(finish_time)\n",
    "        fitnesses.append(best_fitness_ga)\n",
    "        print('time for ga for n={}: {}'.format(n, time.time() - start))\n",
    "        print('best fitness for n={}: {}'.format(n, best_fitness_ga))\n",
    "    return fitnesses, runtime, fitness_curve_ga\n",
    "\n",
    "\n",
    "# Algorithm: MIMIC\n",
    "def MIMIC():\n",
    "    print(\"STARTING K COLOR PROBLEM WITH MIMIC\")\n",
    "    fitnesses = []\n",
    "    runtime = []\n",
    "    for n in range(5, 28, 2):\n",
    "        schedule = mlrose.ExpDecay()\n",
    "        init_state = np.random.randint(2,size=n)\n",
    "        edges = [(0, 1), (0, 2), (0, 4), (1, 3), (2, 0), (2, 3), (3, 4),(1, 2), (2, 4), (1, 5), (1, 6), (1, 4), (3, 4), (4, 5), (2, 3), (2, 4), (2, 6), (3, 5), (4, 2), (4, 5), (5, 6), (8, 9), (7, 6), (3, 9), (2, 7), (4, 1), (3, 8), (4, 1)]        \n",
    "        start = time.time()\n",
    "        fitness = mlrose.MaxKColor(edges[:n])\n",
    "        problem = mlrose.DiscreteOpt(length = n, fitness_fn = fitness, maximize=True, max_val=2)\n",
    "        best_state_mimic, best_fitness_mimic, fitness_curve_mimic = mlrose.mimic(problem,pop_size=500, max_attempts = 100, max_iters=5000, curve=True)\n",
    "        finish_time = time.time() - start\n",
    "        runtime.append(finish_time)\n",
    "        fitnesses.append(best_fitness_mimic)\n",
    "        print('time for MIMIC for n={}: {}'.format(n, time.time() - start))\n",
    "        print('best fitness for n={}: {}'.format(n, best_fitness_mimic))\n",
    "    return fitnesses, runtime, fitness_curve_mimic"
   ]
  },
  {
   "cell_type": "code",
   "execution_count": 47,
   "metadata": {},
   "outputs": [
    {
     "name": "stdout",
     "output_type": "stream",
     "text": [
      "STARTING K COLOR PROBLEM WITH GENETIC ALGORITHM\n",
      "time for ga for n=5: 15.547125101089478\n",
      "best fitness for n=5: 4.0\n",
      "time for ga for n=7: 15.260779619216919\n",
      "best fitness for n=7: 6.0\n",
      "time for ga for n=9: 16.03017544746399\n",
      "best fitness for n=9: 8.0\n",
      "time for ga for n=11: 18.3486111164093\n",
      "best fitness for n=11: 10.0\n",
      "time for ga for n=13: 17.013249158859253\n",
      "best fitness for n=13: 11.0\n",
      "time for ga for n=15: 16.59752321243286\n",
      "best fitness for n=15: 12.0\n",
      "time for ga for n=17: 17.69386053085327\n",
      "best fitness for n=17: 13.0\n",
      "time for ga for n=19: 17.458031177520752\n",
      "best fitness for n=19: 14.0\n",
      "time for ga for n=21: 17.750845432281494\n",
      "best fitness for n=21: 15.0\n",
      "time for ga for n=23: 17.95572853088379\n",
      "best fitness for n=23: 17.0\n",
      "time for ga for n=25: 19.738689184188843\n",
      "best fitness for n=25: 19.0\n",
      "time for ga for n=27: 16.868351697921753\n",
      "best fitness for n=27: 20.0\n"
     ]
    },
    {
     "data": {
      "text/plain": [
       "([4.0, 6.0, 8.0, 10.0, 11.0, 12.0, 13.0, 14.0, 15.0, 17.0, 19.0, 20.0],\n",
       " [15.547125101089478,\n",
       "  15.260779619216919,\n",
       "  16.03017544746399,\n",
       "  18.3486111164093,\n",
       "  17.013249158859253,\n",
       "  16.59752321243286,\n",
       "  17.69386053085327,\n",
       "  17.458031177520752,\n",
       "  17.750845432281494,\n",
       "  17.95572853088379,\n",
       "  19.738689184188843,\n",
       "  16.868351697921753],\n",
       " array([20., 20., 20., ..., 20., 20., 20.]))"
      ]
     },
     "execution_count": 47,
     "metadata": {},
     "output_type": "execute_result"
    }
   ],
   "source": [
    "# RHC()\n",
    "# SA()\n",
    "GA()"
   ]
  },
  {
   "cell_type": "markdown",
   "metadata": {},
   "source": [
    "<font color=black size=5>Max k-color: Plot</font>"
   ]
  },
  {
   "cell_type": "code",
   "execution_count": 65,
   "metadata": {},
   "outputs": [
    {
     "data": {
      "text/plain": [
       "<matplotlib.legend.Legend at 0x1e22a0e4a20>"
      ]
     },
     "execution_count": 65,
     "metadata": {},
     "output_type": "execute_result"
    },
    {
     "data": {
      "image/png": "[encoded data removed]",
      "text/plain": [
       "<Figure size 432x288 with 1 Axes>"
      ]
     },
     "metadata": {},
     "output_type": "display_data"
    }
   ],
   "source": [
    "n_bits = [n for n in range(5, 28, 2)]\n",
    "# rhc_fitness, rhc_runtime, fitness_curve_rhc = RHC()\n",
    "# sa_fitness, sa_runtime, fitness_curve_sa = SA()\n",
    "# ga_fitness, ga_runtime, fitness_curve_ga = GA()\n",
    "# mimic_fitness, mimic_runtime, fitness_curve_mimic = MIMIC()\n",
    "\n",
    "\n",
    "plt.figure()\n",
    "plt.title('Fitness Values & Input Size: K-Color')\n",
    "plt.xlabel('Length of Input (Number of Bits)')\n",
    "plt.ylabel('Best Fitness')\n",
    "plt.plot(n_bits, rhc_fitness, label='RHC')\n",
    "plt.plot(n_bits, sa_fitness, label='SA')\n",
    "plt.plot(n_bits, ga_fitness, label='GA')\n",
    "plt.plot(n_bits, mimic_fitness, label='MIMIC')\n",
    "plt.legend()"
   ]
  },
  {
   "cell_type": "code",
   "execution_count": 61,
   "metadata": {},
   "outputs": [
    {
     "data": {
      "text/plain": [
       "<matplotlib.legend.Legend at 0x1e229f242b0>"
      ]
     },
     "execution_count": 61,
     "metadata": {},
     "output_type": "execute_result"
    },
    {
     "data": {
      "image/png": "[encoded data removed]",
      "text/plain": [
       "<Figure size 432x288 with 1 Axes>"
      ]
     },
     "metadata": {},
     "output_type": "display_data"
    }
   ],
   "source": [
    "plt.figure()\n",
    "plt.title('Runtime & Input Size: Four Peaks')\n",
    "plt.xlabel('Length of Input (Number of Bits)')\n",
    "plt.ylabel('Runtime (Seconds)')\n",
    "plt.plot(n_bits, rhc_runtime, label='RHC')\n",
    "plt.plot(n_bits, sa_runtime, label='SA')\n",
    "plt.plot(n_bits, ga_runtime, label='GA')\n",
    "plt.plot(n_bits, mimic_runtime, label='MIMIC')\n",
    "plt.legend()\n",
    "# plt.legend(loc='upper left')"
   ]
  },
  {
   "cell_type": "code",
   "execution_count": 63,
   "metadata": {},
   "outputs": [
    {
     "data": {
      "text/plain": [
       "<matplotlib.legend.Legend at 0x1e229ff6fd0>"
      ]
     },
     "execution_count": 63,
     "metadata": {},
     "output_type": "execute_result"
    },
    {
     "data": {
      "image/png": "[encoded data removed]",
      "text/plain": [
       "<Figure size 432x288 with 1 Axes>"
      ]
     },
     "metadata": {},
     "output_type": "display_data"
    }
   ],
   "source": [
    "plt.figure()\n",
    "plt.title('Fitness Value & Number of Iterations: Four Peaks')\n",
    "plt.xlabel('Number of Iterations')\n",
    "plt.ylabel('Fitness Value')\n",
    "plt.plot(fitness_curve_rhc,label='RHC')\n",
    "plt.plot(fitness_curve_sa,label='SA')\n",
    "plt.plot(fitness_curve_ga,label='GA')\n",
    "plt.plot(fitness_curve_mimic,label='MIMIC')\n",
    "plt.legend()\n",
    "plt.savefig('k_color_iterations.png')\n"
   ]
  },
  {
   "cell_type": "code",
   "execution_count": 55,
   "metadata": {},
   "outputs": [
    {
     "name": "stdout",
     "output_type": "stream",
     "text": [
      "STARTING K COLOR PROBLEM WITH RANDOMIZED HILL CLIMBING\n",
      "STARTING K COLOR PROBLEM WITH SIMULATED ANNEALING\n",
      "STARTING K COLOR PROBLEM WITH GENETIC ALGORITHM\n"
     ]
    },
    {
     "ename": "KeyboardInterrupt",
     "evalue": "",
     "output_type": "error",
     "traceback": [
      "\u001b[1;31m---------------------------------------------------------------------------\u001b[0m",
      "\u001b[1;31mKeyboardInterrupt\u001b[0m                         Traceback (most recent call last)",
      "\u001b[1;32m<ipython-input-55-da6a32a0f1ab>\u001b[0m in \u001b[0;36m<module>\u001b[1;34m()\u001b[0m\n\u001b[0;32m      8\u001b[0m \u001b[0mrhc_fitness\u001b[0m\u001b[1;33m,\u001b[0m \u001b[0mrhc_runtime\u001b[0m\u001b[1;33m,\u001b[0m \u001b[0mfitness_curve_rhc\u001b[0m \u001b[1;33m=\u001b[0m \u001b[0mRHC\u001b[0m\u001b[1;33m(\u001b[0m\u001b[1;33m)\u001b[0m\u001b[1;33m\u001b[0m\u001b[0m\n\u001b[0;32m      9\u001b[0m \u001b[0msa_fitness\u001b[0m\u001b[1;33m,\u001b[0m \u001b[0msa_runtime\u001b[0m\u001b[1;33m,\u001b[0m \u001b[0mfitness_curve_sa\u001b[0m \u001b[1;33m=\u001b[0m \u001b[0mSA\u001b[0m\u001b[1;33m(\u001b[0m\u001b[1;33m)\u001b[0m\u001b[1;33m\u001b[0m\u001b[0m\n\u001b[1;32m---> 10\u001b[1;33m \u001b[0mga_fitness\u001b[0m\u001b[1;33m,\u001b[0m \u001b[0mga_runtime\u001b[0m\u001b[1;33m,\u001b[0m \u001b[0mfitness_curve_ga\u001b[0m \u001b[1;33m=\u001b[0m \u001b[0mGA\u001b[0m\u001b[1;33m(\u001b[0m\u001b[1;33m)\u001b[0m\u001b[1;33m\u001b[0m\u001b[0m\n\u001b[0m\u001b[0;32m     11\u001b[0m \u001b[0mmimic_fitness\u001b[0m\u001b[1;33m,\u001b[0m \u001b[0mmimic_runtime\u001b[0m\u001b[1;33m,\u001b[0m \u001b[0mfitness_curve_mimic\u001b[0m \u001b[1;33m=\u001b[0m \u001b[0mMIMIC\u001b[0m\u001b[1;33m(\u001b[0m\u001b[1;33m)\u001b[0m\u001b[1;33m\u001b[0m\u001b[0m\n\u001b[0;32m     12\u001b[0m \u001b[1;33m\u001b[0m\u001b[0m\n",
      "\u001b[1;32m<ipython-input-49-d30ca50d50e6>\u001b[0m in \u001b[0;36mGA\u001b[1;34m()\u001b[0m\n\u001b[0;32m     53\u001b[0m         \u001b[0mfitness\u001b[0m \u001b[1;33m=\u001b[0m \u001b[0mmlrose\u001b[0m\u001b[1;33m.\u001b[0m\u001b[0mMaxKColor\u001b[0m\u001b[1;33m(\u001b[0m\u001b[0medges\u001b[0m\u001b[1;33m[\u001b[0m\u001b[1;33m:\u001b[0m\u001b[0mn\u001b[0m\u001b[1;33m]\u001b[0m\u001b[1;33m)\u001b[0m\u001b[1;33m\u001b[0m\u001b[0m\n\u001b[0;32m     54\u001b[0m         \u001b[0mproblem\u001b[0m \u001b[1;33m=\u001b[0m \u001b[0mmlrose\u001b[0m\u001b[1;33m.\u001b[0m\u001b[0mDiscreteOpt\u001b[0m\u001b[1;33m(\u001b[0m\u001b[0mlength\u001b[0m \u001b[1;33m=\u001b[0m \u001b[0mn\u001b[0m\u001b[1;33m,\u001b[0m \u001b[0mfitness_fn\u001b[0m \u001b[1;33m=\u001b[0m \u001b[0mfitness\u001b[0m\u001b[1;33m,\u001b[0m \u001b[0mmaximize\u001b[0m\u001b[1;33m=\u001b[0m\u001b[1;32mTrue\u001b[0m\u001b[1;33m,\u001b[0m \u001b[0mmax_val\u001b[0m\u001b[1;33m=\u001b[0m\u001b[1;36m2\u001b[0m\u001b[1;33m)\u001b[0m\u001b[1;33m\u001b[0m\u001b[0m\n\u001b[1;32m---> 55\u001b[1;33m         \u001b[0mbest_state_ga\u001b[0m\u001b[1;33m,\u001b[0m \u001b[0mbest_fitness_ga\u001b[0m\u001b[1;33m,\u001b[0m \u001b[0mfitness_curve_ga\u001b[0m \u001b[1;33m=\u001b[0m \u001b[0mmlrose\u001b[0m\u001b[1;33m.\u001b[0m\u001b[0mgenetic_alg\u001b[0m\u001b[1;33m(\u001b[0m\u001b[0mproblem\u001b[0m\u001b[1;33m,\u001b[0m \u001b[0mmax_attempts\u001b[0m \u001b[1;33m=\u001b[0m \u001b[1;36m1000\u001b[0m\u001b[1;33m,\u001b[0m \u001b[0mmax_iters\u001b[0m\u001b[1;33m=\u001b[0m\u001b[1;36m5000\u001b[0m\u001b[1;33m,\u001b[0m \u001b[0mcurve\u001b[0m\u001b[1;33m=\u001b[0m\u001b[1;32mTrue\u001b[0m\u001b[1;33m)\u001b[0m\u001b[1;33m\u001b[0m\u001b[0m\n\u001b[0m\u001b[0;32m     56\u001b[0m \u001b[1;33m\u001b[0m\u001b[0m\n\u001b[0;32m     57\u001b[0m         \u001b[0mfinish_time\u001b[0m \u001b[1;33m=\u001b[0m \u001b[0mtime\u001b[0m\u001b[1;33m.\u001b[0m\u001b[0mtime\u001b[0m\u001b[1;33m(\u001b[0m\u001b[1;33m)\u001b[0m \u001b[1;33m-\u001b[0m \u001b[0mstart\u001b[0m\u001b[1;33m\u001b[0m\u001b[0m\n",
      "\u001b[1;32m~\\AppData\\Roaming\\Python\\Python36\\site-packages\\mlrose\\algorithms.py\u001b[0m in \u001b[0;36mgenetic_alg\u001b[1;34m(problem, pop_size, mutation_prob, max_attempts, max_iters, curve, random_state)\u001b[0m\n\u001b[0;32m    426\u001b[0m \u001b[1;33m\u001b[0m\u001b[0m\n\u001b[0;32m    427\u001b[0m             \u001b[1;31m# Create offspring\u001b[0m\u001b[1;33m\u001b[0m\u001b[1;33m\u001b[0m\u001b[0m\n\u001b[1;32m--> 428\u001b[1;33m             \u001b[0mchild\u001b[0m \u001b[1;33m=\u001b[0m \u001b[0mproblem\u001b[0m\u001b[1;33m.\u001b[0m\u001b[0mreproduce\u001b[0m\u001b[1;33m(\u001b[0m\u001b[0mparent_1\u001b[0m\u001b[1;33m,\u001b[0m \u001b[0mparent_2\u001b[0m\u001b[1;33m,\u001b[0m \u001b[0mmutation_prob\u001b[0m\u001b[1;33m)\u001b[0m\u001b[1;33m\u001b[0m\u001b[0m\n\u001b[0m\u001b[0;32m    429\u001b[0m             \u001b[0mnext_gen\u001b[0m\u001b[1;33m.\u001b[0m\u001b[0mappend\u001b[0m\u001b[1;33m(\u001b[0m\u001b[0mchild\u001b[0m\u001b[1;33m)\u001b[0m\u001b[1;33m\u001b[0m\u001b[0m\n\u001b[0;32m    430\u001b[0m \u001b[1;33m\u001b[0m\u001b[0m\n",
      "\u001b[1;32m~\\AppData\\Roaming\\Python\\Python36\\site-packages\\mlrose\\opt_probs.py\u001b[0m in \u001b[0;36mreproduce\u001b[1;34m(self, parent_1, parent_2, mutation_prob)\u001b[0m\n\u001b[0;32m    580\u001b[0m \u001b[1;33m\u001b[0m\u001b[0m\n\u001b[0;32m    581\u001b[0m         \u001b[1;31m# Mutate child\u001b[0m\u001b[1;33m\u001b[0m\u001b[1;33m\u001b[0m\u001b[0m\n\u001b[1;32m--> 582\u001b[1;33m         \u001b[0mrand\u001b[0m \u001b[1;33m=\u001b[0m \u001b[0mnp\u001b[0m\u001b[1;33m.\u001b[0m\u001b[0mrandom\u001b[0m\u001b[1;33m.\u001b[0m\u001b[0muniform\u001b[0m\u001b[1;33m(\u001b[0m\u001b[0msize\u001b[0m\u001b[1;33m=\u001b[0m\u001b[0mself\u001b[0m\u001b[1;33m.\u001b[0m\u001b[0mlength\u001b[0m\u001b[1;33m)\u001b[0m\u001b[1;33m\u001b[0m\u001b[0m\n\u001b[0m\u001b[0;32m    583\u001b[0m         \u001b[0mmutate\u001b[0m \u001b[1;33m=\u001b[0m \u001b[0mnp\u001b[0m\u001b[1;33m.\u001b[0m\u001b[0mwhere\u001b[0m\u001b[1;33m(\u001b[0m\u001b[0mrand\u001b[0m \u001b[1;33m<\u001b[0m \u001b[0mmutation_prob\u001b[0m\u001b[1;33m)\u001b[0m\u001b[1;33m[\u001b[0m\u001b[1;36m0\u001b[0m\u001b[1;33m]\u001b[0m\u001b[1;33m\u001b[0m\u001b[0m\n\u001b[0;32m    584\u001b[0m \u001b[1;33m\u001b[0m\u001b[0m\n",
      "\u001b[1;31mKeyboardInterrupt\u001b[0m: "
     ]
    }
   ],
   "source": [
    "# def main():\n",
    "#     rhc_fitness, rhc_runtime = RHC()\n",
    "#     sa_fitness, sa_runtime = SA()\n",
    "#     ga_fitness, ga_runtime = GA()\n",
    "#     mimic_fitness, mimic_runtime = MIMIC()\n",
    "    \n",
    "n_bits = [n for n in range(10, 110, 10)]\n",
    "rhc_fitness, rhc_runtime, fitness_curve_rhc = RHC()\n",
    "sa_fitness, sa_runtime, fitness_curve_sa = SA()\n",
    "ga_fitness, ga_runtime, fitness_curve_ga = GA()\n",
    "mimic_fitness, mimic_runtime, fitness_curve_mimic = MIMIC()\n",
    "\n",
    "plt.figure()\n",
    "plt.title('Fitness Values & Input Size: Four Peaks')\n",
    "plt.xlabel('Length of Input (Number of Bits)')\n",
    "plt.ylabel('Best Fitness')\n",
    "plt.plot(n_bits, rhc_fitness, label='RHC')\n",
    "plt.plot(n_bits, sa_fitness, label='SA')\n",
    "plt.plot(n_bits, ga_fitness, label='GA')\n",
    "plt.plot(n_bits, mimic_fitness, label='MIMIC')\n",
    "plt.legend(loc='upper left')\n",
    "plt.savefig('4_peaks_input_size_fitness.png')\n",
    "plt.show()\n",
    "\n",
    "plt.figure()\n",
    "plt.title('Runtime & Input Size: Four Peaks')\n",
    "plt.xlabel('Length of Input (Number of Bits)')\n",
    "plt.ylabel('Runtime (Seconds)')\n",
    "plt.plot(n_bits, rhc_runtime, label='RHC')\n",
    "plt.plot(n_bits, sa_runtime, label='SA')\n",
    "plt.plot(n_bits, ga_runtime, label='GA')\n",
    "plt.plot(n_bits, mimic_runtime, label='MIMIC')\n",
    "plt.legend(loc='upper left')\n",
    "plt.savefig('4_peaks_input_size_time.png')\n",
    "plt.show()\n",
    "\n",
    "plt.figure()\n",
    "plt.title('Fitness Value & Number of Iterations: Four Peaks')\n",
    "plt.xlabel('Number of Iterations')\n",
    "plt.ylabel('Fitness Value')\n",
    "plt.plot(fitness_curve_rhc,label='RHC')\n",
    "plt.plot(fitness_curve_sa,label='SA')\n",
    "plt.plot(fitness_curve_ga,label='GA')\n",
    "plt.plot(fitness_curve_mimic,label='MIMIC')\n",
    "plt.legend(loc='lower right')\n",
    "plt.savefig('4_peaks_iterations.png')\n",
    "plt.show()\n",
    "\n",
    "\n",
    "# if __name__ == \"__main__\":\n",
    "#     main()"
   ]
  },
  {
   "cell_type": "code",
   "execution_count": null,
   "metadata": {},
   "outputs": [],
   "source": []
  },
  {
   "cell_type": "code",
   "execution_count": null,
   "metadata": {},
   "outputs": [],
   "source": []
  },
  {
   "cell_type": "code",
   "execution_count": null,
   "metadata": {},
   "outputs": [],
   "source": []
  },
  {
   "cell_type": "code",
   "execution_count": null,
   "metadata": {},
   "outputs": [],
   "source": []
  },
  {
   "cell_type": "code",
   "execution_count": null,
   "metadata": {},
   "outputs": [],
   "source": []
  },
  {
   "cell_type": "code",
   "execution_count": null,
   "metadata": {},
   "outputs": [],
   "source": []
  }
 ],
 "metadata": {
  "kernelspec": {
   "display_name": "Python 3",
   "language": "python",
   "name": "python3"
  },
  "language_info": {
   "codemirror_mode": {
    "name": "ipython",
    "version": 3
   },
   "file_extension": ".py",
   "mimetype": "text/x-python",
   "name": "python",
   "nbconvert_exporter": "python",
   "pygments_lexer": "ipython3",
   "version": "3.6.5"
  }
 },
 "nbformat": 4,
 "nbformat_minor": 2
}
